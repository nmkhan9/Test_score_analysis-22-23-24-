{
 "cells": [
  {
   "cell_type": "markdown",
   "id": "aed2ffc5-6831-42a4-8cec-b409e9587500",
   "metadata": {},
   "source": [
    "### Importing libraries"
   ]
  },
  {
   "cell_type": "code",
   "execution_count": 1,
   "id": "45485f0c-b803-4725-9a44-3b8d3190ba18",
   "metadata": {
    "tags": []
   },
   "outputs": [],
   "source": [
    "import pandas as pd\n",
    "import numpy as np\n",
    "import matplotlib.pyplot as plt\n",
    "import seaborn as sns\n",
    "import warnings\n",
    "warnings.filterwarnings('ignore')"
   ]
  },
  {
   "cell_type": "markdown",
   "id": "5d4724a7-3ced-45d5-a625-00e115974194",
   "metadata": {
    "tags": []
   },
   "source": [
    "### Load data"
   ]
  },
  {
   "cell_type": "code",
   "execution_count": 2,
   "id": "06a6eb42-6de4-4d6d-b1c2-fcdab02a459d",
   "metadata": {
    "tags": []
   },
   "outputs": [],
   "source": [
    "df22=pd.read_csv('diem_thi_thpt_2022.csv')"
   ]
  },
  {
   "cell_type": "code",
   "execution_count": 3,
   "id": "e3603ebf-adac-4622-a315-fe965674ea26",
   "metadata": {
    "tags": []
   },
   "outputs": [
    {
     "data": {
      "text/html": [
       "<div>\n",
       "<style scoped>\n",
       "    .dataframe tbody tr th:only-of-type {\n",
       "        vertical-align: middle;\n",
       "    }\n",
       "\n",
       "    .dataframe tbody tr th {\n",
       "        vertical-align: top;\n",
       "    }\n",
       "\n",
       "    .dataframe thead th {\n",
       "        text-align: right;\n",
       "    }\n",
       "</style>\n",
       "<table border=\"1\" class=\"dataframe\">\n",
       "  <thead>\n",
       "    <tr style=\"text-align: right;\">\n",
       "      <th></th>\n",
       "      <th>sbd</th>\n",
       "      <th>toan</th>\n",
       "      <th>ngu_van</th>\n",
       "      <th>ngoai_ngu</th>\n",
       "      <th>vat_li</th>\n",
       "      <th>hoa_hoc</th>\n",
       "      <th>sinh_hoc</th>\n",
       "      <th>lich_su</th>\n",
       "      <th>dia_li</th>\n",
       "      <th>gdcd</th>\n",
       "    </tr>\n",
       "  </thead>\n",
       "  <tbody>\n",
       "    <tr>\n",
       "      <th>0</th>\n",
       "      <td>1000001</td>\n",
       "      <td>3.6</td>\n",
       "      <td>5.00</td>\n",
       "      <td>4.0</td>\n",
       "      <td>NaN</td>\n",
       "      <td>NaN</td>\n",
       "      <td>NaN</td>\n",
       "      <td>2.75</td>\n",
       "      <td>6.0</td>\n",
       "      <td>8.75</td>\n",
       "    </tr>\n",
       "    <tr>\n",
       "      <th>1</th>\n",
       "      <td>1000002</td>\n",
       "      <td>8.4</td>\n",
       "      <td>6.75</td>\n",
       "      <td>7.6</td>\n",
       "      <td>NaN</td>\n",
       "      <td>NaN</td>\n",
       "      <td>NaN</td>\n",
       "      <td>8.50</td>\n",
       "      <td>7.5</td>\n",
       "      <td>8.25</td>\n",
       "    </tr>\n",
       "    <tr>\n",
       "      <th>2</th>\n",
       "      <td>1000003</td>\n",
       "      <td>5.8</td>\n",
       "      <td>7.50</td>\n",
       "      <td>5.0</td>\n",
       "      <td>NaN</td>\n",
       "      <td>NaN</td>\n",
       "      <td>NaN</td>\n",
       "      <td>7.25</td>\n",
       "      <td>5.5</td>\n",
       "      <td>8.75</td>\n",
       "    </tr>\n",
       "    <tr>\n",
       "      <th>3</th>\n",
       "      <td>1000004</td>\n",
       "      <td>7.4</td>\n",
       "      <td>7.50</td>\n",
       "      <td>8.6</td>\n",
       "      <td>NaN</td>\n",
       "      <td>NaN</td>\n",
       "      <td>NaN</td>\n",
       "      <td>7.50</td>\n",
       "      <td>6.5</td>\n",
       "      <td>7.50</td>\n",
       "    </tr>\n",
       "    <tr>\n",
       "      <th>4</th>\n",
       "      <td>1000005</td>\n",
       "      <td>7.2</td>\n",
       "      <td>8.50</td>\n",
       "      <td>9.0</td>\n",
       "      <td>NaN</td>\n",
       "      <td>NaN</td>\n",
       "      <td>NaN</td>\n",
       "      <td>8.00</td>\n",
       "      <td>8.5</td>\n",
       "      <td>8.25</td>\n",
       "    </tr>\n",
       "  </tbody>\n",
       "</table>\n",
       "</div>"
      ],
      "text/plain": [
       "       sbd  toan  ngu_van  ngoai_ngu  vat_li  hoa_hoc  sinh_hoc  lich_su  \\\n",
       "0  1000001   3.6     5.00        4.0     NaN      NaN       NaN     2.75   \n",
       "1  1000002   8.4     6.75        7.6     NaN      NaN       NaN     8.50   \n",
       "2  1000003   5.8     7.50        5.0     NaN      NaN       NaN     7.25   \n",
       "3  1000004   7.4     7.50        8.6     NaN      NaN       NaN     7.50   \n",
       "4  1000005   7.2     8.50        9.0     NaN      NaN       NaN     8.00   \n",
       "\n",
       "   dia_li  gdcd  \n",
       "0     6.0  8.75  \n",
       "1     7.5  8.25  \n",
       "2     5.5  8.75  \n",
       "3     6.5  7.50  \n",
       "4     8.5  8.25  "
      ]
     },
     "execution_count": 3,
     "metadata": {},
     "output_type": "execute_result"
    }
   ],
   "source": [
    "df22.head()"
   ]
  },
  {
   "cell_type": "code",
   "execution_count": 4,
   "id": "57a2b8d2-6296-453d-953f-d3e77345996c",
   "metadata": {
    "tags": []
   },
   "outputs": [],
   "source": [
    "df23=pd.read_csv('diem_thi_thpt_2023.csv')"
   ]
  },
  {
   "cell_type": "code",
   "execution_count": 5,
   "id": "f885d586-7bdc-449a-84fa-b7114efbea15",
   "metadata": {
    "tags": []
   },
   "outputs": [
    {
     "data": {
      "text/html": [
       "<div>\n",
       "<style scoped>\n",
       "    .dataframe tbody tr th:only-of-type {\n",
       "        vertical-align: middle;\n",
       "    }\n",
       "\n",
       "    .dataframe tbody tr th {\n",
       "        vertical-align: top;\n",
       "    }\n",
       "\n",
       "    .dataframe thead th {\n",
       "        text-align: right;\n",
       "    }\n",
       "</style>\n",
       "<table border=\"1\" class=\"dataframe\">\n",
       "  <thead>\n",
       "    <tr style=\"text-align: right;\">\n",
       "      <th></th>\n",
       "      <th>sbd</th>\n",
       "      <th>toan</th>\n",
       "      <th>ngu_van</th>\n",
       "      <th>ngoai_ngu</th>\n",
       "      <th>vat_li</th>\n",
       "      <th>hoa_hoc</th>\n",
       "      <th>sinh_hoc</th>\n",
       "      <th>lich_su</th>\n",
       "      <th>dia_li</th>\n",
       "      <th>gdcd</th>\n",
       "      <th>ma_ngoai_ngu</th>\n",
       "    </tr>\n",
       "  </thead>\n",
       "  <tbody>\n",
       "    <tr>\n",
       "      <th>0</th>\n",
       "      <td>1000001</td>\n",
       "      <td>8.4</td>\n",
       "      <td>8.50</td>\n",
       "      <td>9.2</td>\n",
       "      <td>NaN</td>\n",
       "      <td>NaN</td>\n",
       "      <td>NaN</td>\n",
       "      <td>6.75</td>\n",
       "      <td>6.00</td>\n",
       "      <td>9.00</td>\n",
       "      <td>N1</td>\n",
       "    </tr>\n",
       "    <tr>\n",
       "      <th>1</th>\n",
       "      <td>1000002</td>\n",
       "      <td>7.2</td>\n",
       "      <td>8.50</td>\n",
       "      <td>9.2</td>\n",
       "      <td>NaN</td>\n",
       "      <td>NaN</td>\n",
       "      <td>NaN</td>\n",
       "      <td>8.75</td>\n",
       "      <td>6.50</td>\n",
       "      <td>8.50</td>\n",
       "      <td>N1</td>\n",
       "    </tr>\n",
       "    <tr>\n",
       "      <th>2</th>\n",
       "      <td>1000003</td>\n",
       "      <td>NaN</td>\n",
       "      <td>6.50</td>\n",
       "      <td>NaN</td>\n",
       "      <td>NaN</td>\n",
       "      <td>NaN</td>\n",
       "      <td>NaN</td>\n",
       "      <td>9.25</td>\n",
       "      <td>7.50</td>\n",
       "      <td>NaN</td>\n",
       "      <td>NaN</td>\n",
       "    </tr>\n",
       "    <tr>\n",
       "      <th>3</th>\n",
       "      <td>1000004</td>\n",
       "      <td>7.8</td>\n",
       "      <td>8.25</td>\n",
       "      <td>7.8</td>\n",
       "      <td>NaN</td>\n",
       "      <td>NaN</td>\n",
       "      <td>NaN</td>\n",
       "      <td>4.50</td>\n",
       "      <td>6.25</td>\n",
       "      <td>8.25</td>\n",
       "      <td>N1</td>\n",
       "    </tr>\n",
       "    <tr>\n",
       "      <th>4</th>\n",
       "      <td>1000005</td>\n",
       "      <td>7.2</td>\n",
       "      <td>8.00</td>\n",
       "      <td>7.8</td>\n",
       "      <td>NaN</td>\n",
       "      <td>NaN</td>\n",
       "      <td>NaN</td>\n",
       "      <td>4.75</td>\n",
       "      <td>6.75</td>\n",
       "      <td>8.25</td>\n",
       "      <td>N1</td>\n",
       "    </tr>\n",
       "  </tbody>\n",
       "</table>\n",
       "</div>"
      ],
      "text/plain": [
       "       sbd  toan  ngu_van  ngoai_ngu  vat_li  hoa_hoc  sinh_hoc  lich_su  \\\n",
       "0  1000001   8.4     8.50        9.2     NaN      NaN       NaN     6.75   \n",
       "1  1000002   7.2     8.50        9.2     NaN      NaN       NaN     8.75   \n",
       "2  1000003   NaN     6.50        NaN     NaN      NaN       NaN     9.25   \n",
       "3  1000004   7.8     8.25        7.8     NaN      NaN       NaN     4.50   \n",
       "4  1000005   7.2     8.00        7.8     NaN      NaN       NaN     4.75   \n",
       "\n",
       "   dia_li  gdcd ma_ngoai_ngu  \n",
       "0    6.00  9.00           N1  \n",
       "1    6.50  8.50           N1  \n",
       "2    7.50   NaN          NaN  \n",
       "3    6.25  8.25           N1  \n",
       "4    6.75  8.25           N1  "
      ]
     },
     "execution_count": 5,
     "metadata": {},
     "output_type": "execute_result"
    }
   ],
   "source": [
    "df23.head()"
   ]
  },
  {
   "cell_type": "code",
   "execution_count": 6,
   "id": "a9f1afa0-5b19-48ec-b102-e36fcda595df",
   "metadata": {
    "tags": []
   },
   "outputs": [],
   "source": [
    "df24=pd.read_csv('diem_thi_thpt_2024.csv')"
   ]
  },
  {
   "cell_type": "code",
   "execution_count": 7,
   "id": "2a4e4980-0282-4085-b7d3-2f7626fd661b",
   "metadata": {
    "tags": []
   },
   "outputs": [
    {
     "data": {
      "text/html": [
       "<div>\n",
       "<style scoped>\n",
       "    .dataframe tbody tr th:only-of-type {\n",
       "        vertical-align: middle;\n",
       "    }\n",
       "\n",
       "    .dataframe tbody tr th {\n",
       "        vertical-align: top;\n",
       "    }\n",
       "\n",
       "    .dataframe thead th {\n",
       "        text-align: right;\n",
       "    }\n",
       "</style>\n",
       "<table border=\"1\" class=\"dataframe\">\n",
       "  <thead>\n",
       "    <tr style=\"text-align: right;\">\n",
       "      <th></th>\n",
       "      <th>sbd</th>\n",
       "      <th>toan</th>\n",
       "      <th>ngu_van</th>\n",
       "      <th>ngoai_ngu</th>\n",
       "      <th>vat_li</th>\n",
       "      <th>hoa_hoc</th>\n",
       "      <th>sinh_hoc</th>\n",
       "      <th>lich_su</th>\n",
       "      <th>dia_li</th>\n",
       "      <th>gdcd</th>\n",
       "      <th>ma_ngoai_ngu</th>\n",
       "    </tr>\n",
       "  </thead>\n",
       "  <tbody>\n",
       "    <tr>\n",
       "      <th>0</th>\n",
       "      <td>1000001</td>\n",
       "      <td>8.4</td>\n",
       "      <td>6.75</td>\n",
       "      <td>8.0</td>\n",
       "      <td>6.0</td>\n",
       "      <td>5.25</td>\n",
       "      <td>5.0</td>\n",
       "      <td>NaN</td>\n",
       "      <td>NaN</td>\n",
       "      <td>NaN</td>\n",
       "      <td>N1</td>\n",
       "    </tr>\n",
       "    <tr>\n",
       "      <th>1</th>\n",
       "      <td>1000002</td>\n",
       "      <td>8.6</td>\n",
       "      <td>8.50</td>\n",
       "      <td>7.2</td>\n",
       "      <td>NaN</td>\n",
       "      <td>NaN</td>\n",
       "      <td>NaN</td>\n",
       "      <td>7.25</td>\n",
       "      <td>6.00</td>\n",
       "      <td>8.00</td>\n",
       "      <td>N1</td>\n",
       "    </tr>\n",
       "    <tr>\n",
       "      <th>2</th>\n",
       "      <td>1000003</td>\n",
       "      <td>8.2</td>\n",
       "      <td>8.75</td>\n",
       "      <td>8.2</td>\n",
       "      <td>NaN</td>\n",
       "      <td>NaN</td>\n",
       "      <td>NaN</td>\n",
       "      <td>7.25</td>\n",
       "      <td>7.25</td>\n",
       "      <td>8.75</td>\n",
       "      <td>N1</td>\n",
       "    </tr>\n",
       "    <tr>\n",
       "      <th>3</th>\n",
       "      <td>1000004</td>\n",
       "      <td>4.8</td>\n",
       "      <td>8.50</td>\n",
       "      <td>7.4</td>\n",
       "      <td>NaN</td>\n",
       "      <td>NaN</td>\n",
       "      <td>NaN</td>\n",
       "      <td>7.00</td>\n",
       "      <td>6.00</td>\n",
       "      <td>7.50</td>\n",
       "      <td>N1</td>\n",
       "    </tr>\n",
       "    <tr>\n",
       "      <th>4</th>\n",
       "      <td>1000005</td>\n",
       "      <td>8.6</td>\n",
       "      <td>9.00</td>\n",
       "      <td>7.8</td>\n",
       "      <td>NaN</td>\n",
       "      <td>NaN</td>\n",
       "      <td>NaN</td>\n",
       "      <td>9.00</td>\n",
       "      <td>8.75</td>\n",
       "      <td>8.50</td>\n",
       "      <td>N1</td>\n",
       "    </tr>\n",
       "  </tbody>\n",
       "</table>\n",
       "</div>"
      ],
      "text/plain": [
       "       sbd  toan  ngu_van  ngoai_ngu  vat_li  hoa_hoc  sinh_hoc  lich_su  \\\n",
       "0  1000001   8.4     6.75        8.0     6.0     5.25       5.0      NaN   \n",
       "1  1000002   8.6     8.50        7.2     NaN      NaN       NaN     7.25   \n",
       "2  1000003   8.2     8.75        8.2     NaN      NaN       NaN     7.25   \n",
       "3  1000004   4.8     8.50        7.4     NaN      NaN       NaN     7.00   \n",
       "4  1000005   8.6     9.00        7.8     NaN      NaN       NaN     9.00   \n",
       "\n",
       "   dia_li  gdcd ma_ngoai_ngu  \n",
       "0     NaN   NaN           N1  \n",
       "1    6.00  8.00           N1  \n",
       "2    7.25  8.75           N1  \n",
       "3    6.00  7.50           N1  \n",
       "4    8.75  8.50           N1  "
      ]
     },
     "execution_count": 7,
     "metadata": {},
     "output_type": "execute_result"
    }
   ],
   "source": [
    "df24.head()"
   ]
  },
  {
   "cell_type": "markdown",
   "id": "6383bba4-3733-45d3-8022-5eea213d5872",
   "metadata": {},
   "source": [
    "### Data cleaning"
   ]
  },
  {
   "cell_type": "code",
   "execution_count": 8,
   "id": "2b627fee-a98e-4ca8-95e7-3696bc24a592",
   "metadata": {
    "tags": []
   },
   "outputs": [],
   "source": [
    "df22['ma_ngoai_ngu']=float('nan')"
   ]
  },
  {
   "cell_type": "code",
   "execution_count": 9,
   "id": "0913df68-1d0f-44d3-8995-854be3b4ff27",
   "metadata": {
    "tags": []
   },
   "outputs": [
    {
     "data": {
      "text/html": [
       "<div>\n",
       "<style scoped>\n",
       "    .dataframe tbody tr th:only-of-type {\n",
       "        vertical-align: middle;\n",
       "    }\n",
       "\n",
       "    .dataframe tbody tr th {\n",
       "        vertical-align: top;\n",
       "    }\n",
       "\n",
       "    .dataframe thead th {\n",
       "        text-align: right;\n",
       "    }\n",
       "</style>\n",
       "<table border=\"1\" class=\"dataframe\">\n",
       "  <thead>\n",
       "    <tr style=\"text-align: right;\">\n",
       "      <th></th>\n",
       "      <th>sbd</th>\n",
       "      <th>toan</th>\n",
       "      <th>ngu_van</th>\n",
       "      <th>ngoai_ngu</th>\n",
       "      <th>vat_li</th>\n",
       "      <th>hoa_hoc</th>\n",
       "      <th>sinh_hoc</th>\n",
       "      <th>lich_su</th>\n",
       "      <th>dia_li</th>\n",
       "      <th>gdcd</th>\n",
       "      <th>ma_ngoai_ngu</th>\n",
       "    </tr>\n",
       "  </thead>\n",
       "  <tbody>\n",
       "    <tr>\n",
       "      <th>0</th>\n",
       "      <td>1000001</td>\n",
       "      <td>3.6</td>\n",
       "      <td>5.00</td>\n",
       "      <td>4.0</td>\n",
       "      <td>NaN</td>\n",
       "      <td>NaN</td>\n",
       "      <td>NaN</td>\n",
       "      <td>2.75</td>\n",
       "      <td>6.0</td>\n",
       "      <td>8.75</td>\n",
       "      <td>NaN</td>\n",
       "    </tr>\n",
       "    <tr>\n",
       "      <th>1</th>\n",
       "      <td>1000002</td>\n",
       "      <td>8.4</td>\n",
       "      <td>6.75</td>\n",
       "      <td>7.6</td>\n",
       "      <td>NaN</td>\n",
       "      <td>NaN</td>\n",
       "      <td>NaN</td>\n",
       "      <td>8.50</td>\n",
       "      <td>7.5</td>\n",
       "      <td>8.25</td>\n",
       "      <td>NaN</td>\n",
       "    </tr>\n",
       "    <tr>\n",
       "      <th>2</th>\n",
       "      <td>1000003</td>\n",
       "      <td>5.8</td>\n",
       "      <td>7.50</td>\n",
       "      <td>5.0</td>\n",
       "      <td>NaN</td>\n",
       "      <td>NaN</td>\n",
       "      <td>NaN</td>\n",
       "      <td>7.25</td>\n",
       "      <td>5.5</td>\n",
       "      <td>8.75</td>\n",
       "      <td>NaN</td>\n",
       "    </tr>\n",
       "    <tr>\n",
       "      <th>3</th>\n",
       "      <td>1000004</td>\n",
       "      <td>7.4</td>\n",
       "      <td>7.50</td>\n",
       "      <td>8.6</td>\n",
       "      <td>NaN</td>\n",
       "      <td>NaN</td>\n",
       "      <td>NaN</td>\n",
       "      <td>7.50</td>\n",
       "      <td>6.5</td>\n",
       "      <td>7.50</td>\n",
       "      <td>NaN</td>\n",
       "    </tr>\n",
       "    <tr>\n",
       "      <th>4</th>\n",
       "      <td>1000005</td>\n",
       "      <td>7.2</td>\n",
       "      <td>8.50</td>\n",
       "      <td>9.0</td>\n",
       "      <td>NaN</td>\n",
       "      <td>NaN</td>\n",
       "      <td>NaN</td>\n",
       "      <td>8.00</td>\n",
       "      <td>8.5</td>\n",
       "      <td>8.25</td>\n",
       "      <td>NaN</td>\n",
       "    </tr>\n",
       "  </tbody>\n",
       "</table>\n",
       "</div>"
      ],
      "text/plain": [
       "       sbd  toan  ngu_van  ngoai_ngu  vat_li  hoa_hoc  sinh_hoc  lich_su  \\\n",
       "0  1000001   3.6     5.00        4.0     NaN      NaN       NaN     2.75   \n",
       "1  1000002   8.4     6.75        7.6     NaN      NaN       NaN     8.50   \n",
       "2  1000003   5.8     7.50        5.0     NaN      NaN       NaN     7.25   \n",
       "3  1000004   7.4     7.50        8.6     NaN      NaN       NaN     7.50   \n",
       "4  1000005   7.2     8.50        9.0     NaN      NaN       NaN     8.00   \n",
       "\n",
       "   dia_li  gdcd  ma_ngoai_ngu  \n",
       "0     6.0  8.75           NaN  \n",
       "1     7.5  8.25           NaN  \n",
       "2     5.5  8.75           NaN  \n",
       "3     6.5  7.50           NaN  \n",
       "4     8.5  8.25           NaN  "
      ]
     },
     "execution_count": 9,
     "metadata": {},
     "output_type": "execute_result"
    }
   ],
   "source": [
    "df22.head()"
   ]
  },
  {
   "cell_type": "code",
   "execution_count": 10,
   "id": "1fd2c08f-3a35-4c2b-aada-1b7356debc43",
   "metadata": {
    "tags": []
   },
   "outputs": [],
   "source": [
    "df22['year']=2022\n",
    "df23['year']=2023\n",
    "df24['year']=2024"
   ]
  },
  {
   "cell_type": "code",
   "execution_count": 11,
   "id": "4b99b519-1aae-452f-af1a-d50f497ed2e8",
   "metadata": {
    "tags": []
   },
   "outputs": [],
   "source": [
    "df=pd.concat([df22,df23,df24],axis=0,ignore_index=True)"
   ]
  },
  {
   "cell_type": "code",
   "execution_count": 12,
   "id": "5267869f-82f9-42ef-a42b-ac9bf487bde4",
   "metadata": {
    "tags": []
   },
   "outputs": [
    {
     "data": {
      "text/html": [
       "<div>\n",
       "<style scoped>\n",
       "    .dataframe tbody tr th:only-of-type {\n",
       "        vertical-align: middle;\n",
       "    }\n",
       "\n",
       "    .dataframe tbody tr th {\n",
       "        vertical-align: top;\n",
       "    }\n",
       "\n",
       "    .dataframe thead th {\n",
       "        text-align: right;\n",
       "    }\n",
       "</style>\n",
       "<table border=\"1\" class=\"dataframe\">\n",
       "  <thead>\n",
       "    <tr style=\"text-align: right;\">\n",
       "      <th></th>\n",
       "      <th>sbd</th>\n",
       "      <th>toan</th>\n",
       "      <th>ngu_van</th>\n",
       "      <th>ngoai_ngu</th>\n",
       "      <th>vat_li</th>\n",
       "      <th>hoa_hoc</th>\n",
       "      <th>sinh_hoc</th>\n",
       "      <th>lich_su</th>\n",
       "      <th>dia_li</th>\n",
       "      <th>gdcd</th>\n",
       "      <th>ma_ngoai_ngu</th>\n",
       "      <th>year</th>\n",
       "    </tr>\n",
       "  </thead>\n",
       "  <tbody>\n",
       "    <tr>\n",
       "      <th>1331805</th>\n",
       "      <td>17003788</td>\n",
       "      <td>6.2</td>\n",
       "      <td>7.25</td>\n",
       "      <td>3.2</td>\n",
       "      <td>NaN</td>\n",
       "      <td>NaN</td>\n",
       "      <td>NaN</td>\n",
       "      <td>5.75</td>\n",
       "      <td>5.5</td>\n",
       "      <td>9.5</td>\n",
       "      <td>N1</td>\n",
       "      <td>2023</td>\n",
       "    </tr>\n",
       "    <tr>\n",
       "      <th>124306</th>\n",
       "      <td>2027428</td>\n",
       "      <td>7.8</td>\n",
       "      <td>7.75</td>\n",
       "      <td>7.8</td>\n",
       "      <td>7.0</td>\n",
       "      <td>8.5</td>\n",
       "      <td>6.0</td>\n",
       "      <td>NaN</td>\n",
       "      <td>NaN</td>\n",
       "      <td>NaN</td>\n",
       "      <td>NaN</td>\n",
       "      <td>2022</td>\n",
       "    </tr>\n",
       "  </tbody>\n",
       "</table>\n",
       "</div>"
      ],
      "text/plain": [
       "              sbd  toan  ngu_van  ngoai_ngu  vat_li  hoa_hoc  sinh_hoc  \\\n",
       "1331805  17003788   6.2     7.25        3.2     NaN      NaN       NaN   \n",
       "124306    2027428   7.8     7.75        7.8     7.0      8.5       6.0   \n",
       "\n",
       "         lich_su  dia_li  gdcd ma_ngoai_ngu  year  \n",
       "1331805     5.75     5.5   9.5           N1  2023  \n",
       "124306       NaN     NaN   NaN          NaN  2022  "
      ]
     },
     "execution_count": 12,
     "metadata": {},
     "output_type": "execute_result"
    }
   ],
   "source": [
    "df.sample(2)"
   ]
  },
  {
   "cell_type": "code",
   "execution_count": 13,
   "id": "4ebda80a-54bd-4e3c-af7c-9c3b856199af",
   "metadata": {
    "tags": []
   },
   "outputs": [
    {
     "name": "stdout",
     "output_type": "stream",
     "text": [
      "<class 'pandas.core.frame.DataFrame'>\n",
      "RangeIndex: 3079106 entries, 0 to 3079105\n",
      "Data columns (total 12 columns):\n",
      " #   Column        Dtype  \n",
      "---  ------        -----  \n",
      " 0   sbd           int64  \n",
      " 1   toan          float64\n",
      " 2   ngu_van       float64\n",
      " 3   ngoai_ngu     float64\n",
      " 4   vat_li        float64\n",
      " 5   hoa_hoc       float64\n",
      " 6   sinh_hoc      float64\n",
      " 7   lich_su       float64\n",
      " 8   dia_li        float64\n",
      " 9   gdcd          float64\n",
      " 10  ma_ngoai_ngu  object \n",
      " 11  year          int64  \n",
      "dtypes: float64(9), int64(2), object(1)\n",
      "memory usage: 281.9+ MB\n"
     ]
    }
   ],
   "source": [
    "df.info()"
   ]
  },
  {
   "cell_type": "markdown",
   "id": "eaa1224c-e6c9-44c6-b34b-b93ef205ee52",
   "metadata": {},
   "source": [
    "### Analysis"
   ]
  },
  {
   "cell_type": "code",
   "execution_count": 14,
   "id": "243d6b2f-de6d-47b2-86e5-df4f092f4115",
   "metadata": {
    "tags": []
   },
   "outputs": [],
   "source": [
    "data=df.copy()"
   ]
  },
  {
   "cell_type": "code",
   "execution_count": 15,
   "id": "87136aa8-512a-4cf5-b66f-71896ff46677",
   "metadata": {
    "tags": []
   },
   "outputs": [],
   "source": [
    "students_per_year=data['year'].value_counts().sort_index()"
   ]
  },
  {
   "cell_type": "code",
   "execution_count": 16,
   "id": "72f4eed9-4ce9-4360-997f-569e56a7b4dd",
   "metadata": {
    "tags": []
   },
   "outputs": [],
   "source": [
    "growth_rate=students_per_year.pct_change() * 100"
   ]
  },
  {
   "cell_type": "code",
   "execution_count": 17,
   "id": "864314d4-9fde-4f59-9bf1-42a58fbc8fa3",
   "metadata": {
    "tags": []
   },
   "outputs": [],
   "source": [
    "students_growth_df = pd.DataFrame({\n",
    "    'so_luong_thi_sinh': students_per_year,\n",
    "    'ty_le_tang_truong': growth_rate\n",
    "}).reset_index().rename(columns={'index': 'year'})"
   ]
  },
  {
   "cell_type": "code",
   "execution_count": 18,
   "id": "68563826-cc26-4617-88df-d8d522a62558",
   "metadata": {
    "tags": []
   },
   "outputs": [
    {
     "data": {
      "text/html": [
       "<div>\n",
       "<style scoped>\n",
       "    .dataframe tbody tr th:only-of-type {\n",
       "        vertical-align: middle;\n",
       "    }\n",
       "\n",
       "    .dataframe tbody tr th {\n",
       "        vertical-align: top;\n",
       "    }\n",
       "\n",
       "    .dataframe thead th {\n",
       "        text-align: right;\n",
       "    }\n",
       "</style>\n",
       "<table border=\"1\" class=\"dataframe\">\n",
       "  <thead>\n",
       "    <tr style=\"text-align: right;\">\n",
       "      <th></th>\n",
       "      <th>year</th>\n",
       "      <th>so_luong_thi_sinh</th>\n",
       "      <th>ty_le_tang_truong</th>\n",
       "    </tr>\n",
       "  </thead>\n",
       "  <tbody>\n",
       "    <tr>\n",
       "      <th>0</th>\n",
       "      <td>2022</td>\n",
       "      <td>995441</td>\n",
       "      <td>NaN</td>\n",
       "    </tr>\n",
       "    <tr>\n",
       "      <th>1</th>\n",
       "      <td>2023</td>\n",
       "      <td>1022060</td>\n",
       "      <td>2.674091</td>\n",
       "    </tr>\n",
       "    <tr>\n",
       "      <th>2</th>\n",
       "      <td>2024</td>\n",
       "      <td>1061605</td>\n",
       "      <td>3.869147</td>\n",
       "    </tr>\n",
       "  </tbody>\n",
       "</table>\n",
       "</div>"
      ],
      "text/plain": [
       "   year  so_luong_thi_sinh  ty_le_tang_truong\n",
       "0  2022             995441                NaN\n",
       "1  2023            1022060           2.674091\n",
       "2  2024            1061605           3.869147"
      ]
     },
     "execution_count": 18,
     "metadata": {},
     "output_type": "execute_result"
    }
   ],
   "source": [
    "students_growth_df"
   ]
  },
  {
   "cell_type": "code",
   "execution_count": 19,
   "id": "8cbd3fad-8d75-4149-bb3c-04dc5ea6aee5",
   "metadata": {
    "tags": []
   },
   "outputs": [
    {
     "data": {
      "image/png": "[encoded data removed]",
      "text/plain": [
       "<Figure size 400x600 with 2 Axes>"
      ]
     },
     "metadata": {},
     "output_type": "display_data"
    }
   ],
   "source": [
    "fig, axes =plt.subplots(2,1,figsize=(4,6))\n",
    "\n",
    "sns.barplot(\n",
    "    data=students_growth_df,\n",
    "    x='year',\n",
    "    y='so_luong_thi_sinh',\n",
    "    ax=axes[0]\n",
    ")\n",
    "axes[0].set_title('Số lượng thí sinh qua các năm')\n",
    "axes[0].set_xlabel('Năm')\n",
    "axes[0].set_ylabel('Số lượng')\n",
    "\n",
    "sns.barplot(\n",
    "    data=students_growth_df,\n",
    "    x='year',\n",
    "    y='ty_le_tang_truong',\n",
    "    ax=axes[1]\n",
    ")\n",
    "axes[1].set_title('Tỷ lệ tăng trưởng qua các năm')\n",
    "axes[1].set_ylabel('Tỷ lệ tăng trưởng (%)')\n",
    "axes[1].set_xlabel('Năm')\n",
    "plt.tight_layout()\n",
    "plt.show()"
   ]
  },
  {
   "cell_type": "markdown",
   "id": "0795e6d0-b144-4497-9b2b-a2e3ebb6a8d3",
   "metadata": {},
   "source": [
    "### Score distribution over years"
   ]
  },
  {
   "cell_type": "code",
   "execution_count": 20,
   "id": "7dc3e5a6-7436-44af-af1b-c1f9dfc0bf23",
   "metadata": {
    "tags": []
   },
   "outputs": [],
   "source": [
    "subjects=['toan','ngu_van','ngoai_ngu','vat_li','hoa_hoc','sinh_hoc','lich_su','dia_li','gdcd']"
   ]
  },
  {
   "cell_type": "markdown",
   "id": "1f514718-b367-4957-bfe6-7e2251c69a62",
   "metadata": {},
   "source": [
    "### Average score for each subject over the years"
   ]
  },
  {
   "cell_type": "code",
   "execution_count": 21,
   "id": "82662255-dd3b-4b43-94d5-baabe8937e27",
   "metadata": {
    "tags": []
   },
   "outputs": [],
   "source": [
    "mean_score_by_year= data.groupby('year')[subjects].mean().reset_index()"
   ]
  },
  {
   "cell_type": "code",
   "execution_count": 22,
   "id": "92eeb15b-683b-41d7-99b3-cd3dc3127034",
   "metadata": {
    "tags": []
   },
   "outputs": [
    {
     "data": {
      "text/html": [
       "<div>\n",
       "<style scoped>\n",
       "    .dataframe tbody tr th:only-of-type {\n",
       "        vertical-align: middle;\n",
       "    }\n",
       "\n",
       "    .dataframe tbody tr th {\n",
       "        vertical-align: top;\n",
       "    }\n",
       "\n",
       "    .dataframe thead th {\n",
       "        text-align: right;\n",
       "    }\n",
       "</style>\n",
       "<table border=\"1\" class=\"dataframe\">\n",
       "  <thead>\n",
       "    <tr style=\"text-align: right;\">\n",
       "      <th></th>\n",
       "      <th>year</th>\n",
       "      <th>toan</th>\n",
       "      <th>ngu_van</th>\n",
       "      <th>ngoai_ngu</th>\n",
       "      <th>vat_li</th>\n",
       "      <th>hoa_hoc</th>\n",
       "      <th>sinh_hoc</th>\n",
       "      <th>lich_su</th>\n",
       "      <th>dia_li</th>\n",
       "      <th>gdcd</th>\n",
       "    </tr>\n",
       "  </thead>\n",
       "  <tbody>\n",
       "    <tr>\n",
       "      <th>0</th>\n",
       "      <td>2022</td>\n",
       "      <td>6.466254</td>\n",
       "      <td>6.507746</td>\n",
       "      <td>5.157686</td>\n",
       "      <td>6.723779</td>\n",
       "      <td>6.703898</td>\n",
       "      <td>5.019109</td>\n",
       "      <td>6.343930</td>\n",
       "      <td>6.677929</td>\n",
       "      <td>8.033266</td>\n",
       "    </tr>\n",
       "    <tr>\n",
       "      <th>1</th>\n",
       "      <td>2023</td>\n",
       "      <td>6.250557</td>\n",
       "      <td>6.858194</td>\n",
       "      <td>5.462410</td>\n",
       "      <td>6.573900</td>\n",
       "      <td>6.744646</td>\n",
       "      <td>6.394933</td>\n",
       "      <td>6.025629</td>\n",
       "      <td>6.147523</td>\n",
       "      <td>8.285805</td>\n",
       "    </tr>\n",
       "    <tr>\n",
       "      <th>2</th>\n",
       "      <td>2024</td>\n",
       "      <td>6.447309</td>\n",
       "      <td>7.231146</td>\n",
       "      <td>5.521938</td>\n",
       "      <td>6.666866</td>\n",
       "      <td>6.680830</td>\n",
       "      <td>6.284079</td>\n",
       "      <td>6.570343</td>\n",
       "      <td>7.193541</td>\n",
       "      <td>8.156503</td>\n",
       "    </tr>\n",
       "  </tbody>\n",
       "</table>\n",
       "</div>"
      ],
      "text/plain": [
       "   year      toan   ngu_van  ngoai_ngu    vat_li   hoa_hoc  sinh_hoc  \\\n",
       "0  2022  6.466254  6.507746   5.157686  6.723779  6.703898  5.019109   \n",
       "1  2023  6.250557  6.858194   5.462410  6.573900  6.744646  6.394933   \n",
       "2  2024  6.447309  7.231146   5.521938  6.666866  6.680830  6.284079   \n",
       "\n",
       "    lich_su    dia_li      gdcd  \n",
       "0  6.343930  6.677929  8.033266  \n",
       "1  6.025629  6.147523  8.285805  \n",
       "2  6.570343  7.193541  8.156503  "
      ]
     },
     "execution_count": 22,
     "metadata": {},
     "output_type": "execute_result"
    }
   ],
   "source": [
    "mean_score_by_year"
   ]
  },
  {
   "cell_type": "code",
   "execution_count": 23,
   "id": "bcc02818-1d5d-43e9-93b0-9ee05c34840c",
   "metadata": {
    "tags": []
   },
   "outputs": [
    {
     "data": {
      "image/png": "[encoded data removed]",
      "text/plain": [
       "<Figure size 600x400 with 1 Axes>"
      ]
     },
     "metadata": {},
     "output_type": "display_data"
    }
   ],
   "source": [
    "plt.figure(figsize=(6,4))\n",
    "for i,subject in enumerate(subjects):\n",
    "    sns.lineplot(\n",
    "        data=mean_score_by_year,\n",
    "        x='year',\n",
    "        y=subject,\n",
    "        label=f'{subject}'\n",
    "     )\n",
    "plt.xlabel('Year')\n",
    "plt.ylabel('Diem_trung_binh')\n",
    "plt.xlim(2021.5,2024.5)\n",
    "plt.xticks(range(2022,2025,1))\n",
    "plt.legend(loc='upper right',bbox_to_anchor=(1.2,1))\n",
    "plt.grid(True)\n",
    "plt.show()"
   ]
  },
  {
   "cell_type": "markdown",
   "id": "f3be70a3-7d14-4f82-8b1c-59fbb67c76ea",
   "metadata": {},
   "source": [
    "### Scores for each subject over the years"
   ]
  },
  {
   "cell_type": "code",
   "execution_count": 24,
   "id": "db9ad944-4d1d-4cea-ba1e-c6b154dfe411",
   "metadata": {
    "tags": []
   },
   "outputs": [],
   "source": [
    "title=['Toán','Văn','Anh','Lí','Hóa','Sinh','Sử','Địa','CD']\n",
    "x_year=[2022,2023,2024]"
   ]
  },
  {
   "cell_type": "code",
   "execution_count": 25,
   "id": "90059b8a-edbd-47e9-bbeb-05126dedd421",
   "metadata": {
    "tags": []
   },
   "outputs": [
    {
     "data": {
      "image/png": "[encoded data removed]",
      "text/plain": [
       "<Figure size 1500x500 with 24 Axes>"
      ]
     },
     "metadata": {},
     "output_type": "display_data"
    }
   ],
   "source": [
    "colors = ['b', 'g', 'r', 'c', 'm', 'y', 'k', '#808080']\n",
    "fig, axes =plt.subplots(3,8, figsize=(15,5))\n",
    "for i, year in enumerate(x_year):\n",
    "    for j,(subject,color) in enumerate(zip(subjects,colors)):\n",
    "        sns.histplot(\n",
    "            data[data.year==year][subject],\n",
    "            ax=axes[i,j],\n",
    "            bins=20,\n",
    "            color=color\n",
    "        )\n",
    "        axes[i,j].set_title(f'{title[j]} {year}')\n",
    "        axes[i,j].set_xlabel(f'Diem {title[j]}')\n",
    "        axes[i,j].set_ylabel('#')\n",
    "plt.tight_layout()\n",
    "plt.show()"
   ]
  },
  {
   "cell_type": "markdown",
   "id": "140e96b7-fe8b-4d31-a439-8a49393b1d4f",
   "metadata": {},
   "source": [
    "### Subject"
   ]
  },
  {
   "cell_type": "code",
   "execution_count": null,
   "id": "2eb931a6-4231-4cca-8c32-bce5ca5d169c",
   "metadata": {
    "tags": []
   },
   "outputs": [],
   "source": [
    "fig, axes=plt.subplots(3,1,figsize=(6,8))\n",
    "for i,year in enumerate(x_year):\n",
    "    sns.histplot(\n",
    "        data[data.year==year]['toan'],\n",
    "        ax=axes[i],\n",
    "        bins=20,\n",
    "        kde=False,\n",
    "        edgecolor='black',\n",
    "        color='g'\n",
    "    )\n",
    "    axes[i].set_title(f'{year}')\n",
    "    axes[i].set_xlabel('Điểm_Toán')\n",
    "    axes[i].set_ylabel('Số_lượng')\n",
    "    \n",
    "    year_data=data[data.year==year]['toan'].dropna()\n",
    "    mean=year_data.mean()\n",
    "    median=year_data.median()\n",
    "    std=year_data.std()\n",
    "    Q1=year_data.quantile(0.25)\n",
    "    Q3=year_data.quantile(0.75)\n",
    "    p85=year_data.quantile(0.85)\n",
    "    p90=year_data.quantile(0.90)\n",
    "    p95=year_data.quantile(0.95)\n",
    "    p99=year_data.quantile(0.99)\n",
    "    \n",
    "    text_str=(\n",
    "        f'Mean= {mean:.2f}\\nMedian= {median:.2f}\\nSTD= {std:.2f}\\n'\n",
    "        f'Q1= {Q1:.2f}\\nQ3= {Q3:.2f}\\n'\n",
    "        f'P85= {p85:.2f}\\nP90= {p90:.2f}\\nP95= {p95:.2f}\\nP99= {p99:.2f}'\n",
    "    )\n",
    "    props=dict(boxstyle='round',facecolor='wheat',alpha=0.5)\n",
    "    axes[i].text(1.05, 0.5, text_str, transform=axes[i].transAxes, fontsize=8.5,\n",
    "                va='center', ha='left', bbox=props)\n",
    "plt.xticks(range(0,11,1))\n",
    "plt.tight_layout()\n",
    "plt.show()"
   ]
  },
  {
   "cell_type": "code",
   "execution_count": null,
   "id": "5465e0d7-480f-4dc9-9233-969dbd5f6194",
   "metadata": {
    "tags": []
   },
   "outputs": [],
   "source": [
    "fig, axes=plt.subplots(3,1,figsize=(6,8))\n",
    "for i,year in enumerate(x_year):\n",
    "    sns.histplot(\n",
    "        data[data.year==year]['ngu_van'],\n",
    "        ax=axes[i],\n",
    "        bins=20,\n",
    "        kde=False,\n",
    "        edgecolor='black',\n",
    "        color='orange'\n",
    "    )\n",
    "    axes[i].set_title(f'{year}')\n",
    "    axes[i].set_xlabel('Điểm_Văn')\n",
    "    axes[i].set_ylabel('Số_lượng')\n",
    "    \n",
    "    year_data=data[data.year==year]['ngu_van'].dropna()\n",
    "    mean=year_data.mean()\n",
    "    median=year_data.median()\n",
    "    std=year_data.std()\n",
    "    Q1=year_data.quantile(0.25)\n",
    "    Q3=year_data.quantile(0.75)\n",
    "    p85=year_data.quantile(0.85)\n",
    "    p90=year_data.quantile(0.90)\n",
    "    p95=year_data.quantile(0.95)\n",
    "    p99=year_data.quantile(0.99)\n",
    "    \n",
    "    text_str=(\n",
    "        f'Mean= {mean:.2f}\\nMedian= {median:.2f}\\nSTD= {std:.2f}\\n'\n",
    "        f'Q1= {Q1:.2f}\\nQ3= {Q3:.2f}\\n'\n",
    "        f'P85= {p85:.2f}\\nP90= {p90:.2f}\\nP95= {p95:.2f}\\nP99= {p99:.2f}'\n",
    "    )\n",
    "    props=dict(boxstyle='round',facecolor='wheat',alpha=0.5)\n",
    "    axes[i].text(1.05, 0.5, text_str, transform=axes[i].transAxes, fontsize=8.5,\n",
    "                va='center', ha='left', bbox=props)\n",
    "plt.xticks(range(0,11,1))\n",
    "plt.tight_layout()\n",
    "plt.show()"
   ]
  },
  {
   "cell_type": "code",
   "execution_count": null,
   "id": "63d69524-7633-440e-9189-aec0dfe736d5",
   "metadata": {
    "tags": []
   },
   "outputs": [],
   "source": [
    "fig, axes=plt.subplots(3,1,figsize=(6,8))\n",
    "for i,year in enumerate(x_year):\n",
    "    sns.histplot(\n",
    "        data[data.year==year]['vat_li'],\n",
    "        ax=axes[i],\n",
    "        bins=20,\n",
    "        kde=False,\n",
    "        edgecolor='black',\n",
    "        color='y'\n",
    "    )\n",
    "    axes[i].set_title(f'{year}')\n",
    "    axes[i].set_xlabel('Điểm_Vật_lí')\n",
    "    axes[i].set_ylabel('Số_lượng')\n",
    "    \n",
    "    year_data=data[data.year==year]['vat_li'].dropna()\n",
    "    mean=year_data.mean()\n",
    "    median=year_data.median()\n",
    "    std=year_data.std()\n",
    "    Q1=year_data.quantile(0.25)\n",
    "    Q3=year_data.quantile(0.75)\n",
    "    p85=year_data.quantile(0.85)\n",
    "    p90=year_data.quantile(0.90)\n",
    "    p95=year_data.quantile(0.95)\n",
    "    p99=year_data.quantile(0.99)\n",
    "    \n",
    "    text_str=(\n",
    "        f'Mean= {mean:.2f}\\nMedian= {median:.2f}\\nSTD= {std:.2f}\\n'\n",
    "        f'Q1= {Q1:.2f}\\nQ3= {Q3:.2f}\\n'\n",
    "        f'P85= {p85:.2f}\\nP90= {p90:.2f}\\nP95= {p95:.2f}\\nP99= {p99:.2f}'\n",
    "    )\n",
    "    props=dict(boxstyle='round',facecolor='wheat',alpha=0.5)\n",
    "    axes[i].text(1.05, 0.5, text_str, transform=axes[i].transAxes, fontsize=8.5,\n",
    "                va='center', ha='left', bbox=props)\n",
    "plt.xticks(range(0,11,1))\n",
    "plt.tight_layout()\n",
    "plt.show()"
   ]
  },
  {
   "cell_type": "markdown",
   "id": "b6077f7b-440f-45ec-99af-e129652840ce",
   "metadata": {},
   "source": [
    "### Compare with previous years"
   ]
  },
  {
   "cell_type": "code",
   "execution_count": null,
   "id": "d14c19cf-597d-4bf6-b1a9-280248b74120",
   "metadata": {
    "tags": []
   },
   "outputs": [],
   "source": [
    "df_filtered=data.sample(frac=0.3,random_state=1)"
   ]
  },
  {
   "cell_type": "code",
   "execution_count": null,
   "id": "ce7bc2fe-b2d1-4cc3-b367-16270b490a60",
   "metadata": {
    "tags": []
   },
   "outputs": [],
   "source": [
    "df_filtered.sample(5)"
   ]
  },
  {
   "cell_type": "code",
   "execution_count": null,
   "id": "07129f70-bc08-47ae-990c-598309870d6e",
   "metadata": {
    "tags": []
   },
   "outputs": [],
   "source": [
    "colors = ['g', 'r', 'c']\n",
    "for i in subjects:\n",
    "    plt.figure(figsize=(10,3))\n",
    "    for year,color in (zip(x_year,colors)):\n",
    "        df1=df_filtered[df_filtered.year==year][i].dropna()\n",
    "        sns.kdeplot(\n",
    "            data=df1,\n",
    "            label=f'Nam_{year}',\n",
    "            color=color,\n",
    "            bw_adjust=2\n",
    "        )\n",
    "    plt.title(f'Phân bố điểm {i} từ năm 2022 đến 2024')\n",
    "    plt.xlabel('Điểm số')\n",
    "    plt.ylabel('Mật độ')\n",
    "    plt.xticks(range(0,11,1))\n",
    "    plt.legend(title='Năm')\n",
    "    plt.grid(False)\n",
    "    plt.show()"
   ]
  },
  {
   "cell_type": "markdown",
   "id": "f736dbc7-ce9b-4389-9991-6a926bb32739",
   "metadata": {},
   "source": [
    "### Group distribution"
   ]
  },
  {
   "cell_type": "code",
   "execution_count": null,
   "id": "81be4624-faf1-4271-8945-eb93d13b069e",
   "metadata": {
    "tags": []
   },
   "outputs": [],
   "source": [
    "df_filtered['A']=df_filtered['toan']+df_filtered['vat_li']+df_filtered['hoa_hoc']\n",
    "df_filtered['A1']=df_filtered['toan']+df_filtered['vat_li']+df_filtered['ngoai_ngu']\n",
    "df_filtered['B']=df_filtered['toan']+df_filtered['sinh_hoc']+df_filtered['hoa_hoc']\n",
    "df_filtered['C']=df_filtered['ngu_van']+df_filtered['lich_su']+df_filtered['dia_li']\n",
    "df_filtered['D']=df_filtered['toan']+df_filtered['ngu_van']+df_filtered['ngoai_ngu']"
   ]
  },
  {
   "cell_type": "code",
   "execution_count": null,
   "id": "d1fd8589-4bb1-4a17-a94f-8bc7a5f0a919",
   "metadata": {
    "tags": []
   },
   "outputs": [],
   "source": [
    "df_filtered.sample(5)"
   ]
  },
  {
   "cell_type": "code",
   "execution_count": null,
   "id": "f41350d8-9732-4b22-99ea-acdd82e1d719",
   "metadata": {
    "tags": []
   },
   "outputs": [],
   "source": [
    "combinations=['A','A1','B','C','D']"
   ]
  },
  {
   "cell_type": "markdown",
   "id": "419a582c-8727-48a4-9914-752d56367dc4",
   "metadata": {},
   "source": [
    "### Scores for group distribution over the years"
   ]
  },
  {
   "cell_type": "code",
   "execution_count": null,
   "id": "6030313d-3198-4644-8fbc-79a1a93e070c",
   "metadata": {
    "tags": []
   },
   "outputs": [],
   "source": [
    "fig, axes= plt.subplots(3,1, figsize=(8,5),sharex=True )\n",
    "\n",
    "for i,year in enumerate(x_year):\n",
    "    sns.histplot(\n",
    "        data=df_filtered[df_filtered.year==year]['A'].dropna(),\n",
    "        bins=30,\n",
    "        ax=axes[i],\n",
    "        kde=False,\n",
    "        edgecolor='black',\n",
    "        color='y'\n",
    "    )\n",
    "    axes[i].set_title(f'{year}')\n",
    "    axes[i].set_xlabel('Điểm_khối_A')\n",
    "    axes[i].set_ylabel('Số_lượng')\n",
    "    axes[i].set_xticks(range(0,31,1))\n",
    "    \n",
    "    df_A=df_filtered[df_filtered.year==year]['A'].dropna()\n",
    "    mean=df_A.mean()\n",
    "    median=df_A.median()\n",
    "    std=df_A.std()\n",
    "    Q1=df_A.quantile(0.25)\n",
    "    Q3=df_A.quantile(0.75)\n",
    "    p85=df_A.quantile(0.85)\n",
    "    p90=df_A.quantile(0.90)\n",
    "    p95=df_A.quantile(0.95)\n",
    "    p99=df_A.quantile(0.99)\n",
    "    \n",
    "    text_str=(\n",
    "        f'Mean= {mean:.2f}\\nMedian= {median:.2f}\\nSTD= {std:.2f}\\n'\n",
    "        f'Q1= {Q1:.2f}\\nQ3= {Q3:.2f}\\n'\n",
    "        f'P85= {p85:.2f}\\nP90= {p90:.2f}\\nP95= {p95:.2f}\\nP99= {p99:.2f}'\n",
    "    )\n",
    "    props=dict(boxstyle='round',facecolor='wheat',alpha=0.5)\n",
    "    axes[i].text(1.05, 0.5, text_str, transform=axes[i].transAxes, fontsize=8.5,\n",
    "                va='center', ha='left', bbox=props)\n",
    "plt.tight_layout()\n",
    "plt.show()"
   ]
  },
  {
   "cell_type": "code",
   "execution_count": null,
   "id": "3ec5b62d-d7de-4024-b986-98babd6dd93e",
   "metadata": {
    "tags": []
   },
   "outputs": [],
   "source": [
    "fig, axes= plt.subplots(3,1, figsize=(8,5),sharex=True )\n",
    "\n",
    "for i,year in enumerate(x_year):\n",
    "    sns.histplot(\n",
    "        data=df_filtered[df_filtered.year==year]['A1'].dropna(),\n",
    "        bins=30,\n",
    "        ax=axes[i],\n",
    "        kde=False,\n",
    "        edgecolor='black',\n",
    "        color='c'\n",
    "    )\n",
    "    axes[i].set_title(f'{year}')\n",
    "    axes[i].set_xlabel('Điểm_khối_A1')\n",
    "    axes[i].set_ylabel('Số_lượng')\n",
    "    axes[i].set_xticks(range(0,31,1))\n",
    "    \n",
    "    df_A1=df_filtered[df_filtered.year==year]['A1'].dropna()\n",
    "    mean=df_A1.mean()\n",
    "    median=df_A1.median()\n",
    "    std=df_A1.std()\n",
    "    Q1=df_A1.quantile(0.25)\n",
    "    Q3=df_A1.quantile(0.75)\n",
    "    p85=df_A1.quantile(0.85)\n",
    "    p90=df_A1.quantile(0.90)\n",
    "    p95=df_A1.quantile(0.95)\n",
    "    p99=df_A1.quantile(0.99)\n",
    "    \n",
    "    text_str=(\n",
    "        f'Mean= {mean:.2f}\\nMedian= {median:.2f}\\nSTD= {std:.2f}\\n'\n",
    "        f'Q1= {Q1:.2f}\\nQ3= {Q3:.2f}\\n'\n",
    "        f'P85= {p85:.2f}\\nP90= {p90:.2f}\\nP95= {p95:.2f}\\nP99= {p99:.2f}'\n",
    "    )\n",
    "    props=dict(boxstyle='round',facecolor='wheat',alpha=0.5)\n",
    "    axes[i].text(1.05, 0.5, text_str, transform=axes[i].transAxes, fontsize=8.5,\n",
    "                va='center', ha='left', bbox=props)\n",
    "plt.tight_layout()\n",
    "plt.show()"
   ]
  },
  {
   "cell_type": "code",
   "execution_count": null,
   "id": "6b87b894-0686-4358-9575-11bd5704ea40",
   "metadata": {
    "tags": []
   },
   "outputs": [],
   "source": [
    "fig, axes= plt.subplots(3,1, figsize=(8,5),sharex=True )\n",
    "\n",
    "for i,year in enumerate(x_year):\n",
    "    sns.histplot(\n",
    "        data=df_filtered[df_filtered.year==year]['B'].dropna(),\n",
    "        bins=30,\n",
    "        ax=axes[i],\n",
    "        kde=False,\n",
    "        edgecolor='black',\n",
    "        color='b'\n",
    "    )\n",
    "    axes[i].set_title(f'{year}')\n",
    "    axes[i].set_xlabel('Điểm_khối_B')\n",
    "    axes[i].set_ylabel('Số_lượng')\n",
    "    axes[i].set_xticks(range(0,31,1))\n",
    "    \n",
    "    df_B=df_filtered[df_filtered.year==year]['B'].dropna()\n",
    "    mean=df_B.mean()\n",
    "    median=df_B.median()\n",
    "    std=df_B.std()\n",
    "    Q1=df_B.quantile(0.25)\n",
    "    Q3=df_B.quantile(0.75)\n",
    "    p85=df_B.quantile(0.85)\n",
    "    p90=df_B.quantile(0.90)\n",
    "    p95=df_B.quantile(0.95)\n",
    "    p99=df_B.quantile(0.99)\n",
    "    \n",
    "    text_str=(\n",
    "        f'Mean= {mean:.2f}\\nMedian= {median:.2f}\\nSTD= {std:.2f}\\n'\n",
    "        f'Q1= {Q1:.2f}\\nQ3= {Q3:.2f}\\n'\n",
    "        f'P85= {p85:.2f}\\nP90= {p90:.2f}\\nP95= {p95:.2f}\\nP99= {p99:.2f}'\n",
    "    )\n",
    "    props=dict(boxstyle='round',facecolor='wheat',alpha=0.5)\n",
    "    axes[i].text(1.05, 0.5, text_str, transform=axes[i].transAxes, fontsize=8.5,\n",
    "                va='center', ha='left', bbox=props)\n",
    "plt.tight_layout()\n",
    "plt.show()"
   ]
  },
  {
   "cell_type": "code",
   "execution_count": null,
   "id": "c8a8e4a3-eb79-4dc6-9abb-fb7e3a8a2b3d",
   "metadata": {
    "tags": []
   },
   "outputs": [],
   "source": [
    "fig, axes= plt.subplots(3,1, figsize=(8,5),sharex=True )\n",
    "\n",
    "for i,year in enumerate(x_year):\n",
    "    sns.histplot(\n",
    "        data=df_filtered[df_filtered.year==year]['C'].dropna(),\n",
    "        bins=30,\n",
    "        ax=axes[i],\n",
    "        kde=False,\n",
    "        edgecolor='black',\n",
    "        color='orange'\n",
    "    )\n",
    "    axes[i].set_title(f'{year}')\n",
    "    axes[i].set_xlabel('Điểm_khối_C')\n",
    "    axes[i].set_ylabel('Số_lượng')\n",
    "    axes[i].set_xticks(range(0,31,1))\n",
    "    \n",
    "    df_C=df_filtered[df_filtered.year==year]['C'].dropna()\n",
    "    mean=df_C.mean()\n",
    "    median=df_C.median()\n",
    "    std=df_C.std()\n",
    "    Q1=df_C.quantile(0.25)\n",
    "    Q3=df_C.quantile(0.75)\n",
    "    p85=df_C.quantile(0.85)\n",
    "    p90=df_C.quantile(0.90)\n",
    "    p95=df_C.quantile(0.95)\n",
    "    p99=df_C.quantile(0.99)\n",
    "    \n",
    "    text_str=(\n",
    "        f'Mean= {mean:.2f}\\nMedian= {median:.2f}\\nSTD= {std:.2f}\\n'\n",
    "        f'Q1= {Q1:.2f}\\nQ3= {Q3:.2f}\\n'\n",
    "        f'P85= {p85:.2f}\\nP90= {p90:.2f}\\nP95= {p95:.2f}\\nP99= {p99:.2f}'\n",
    "    )\n",
    "    props=dict(boxstyle='round',facecolor='wheat',alpha=0.5)\n",
    "    axes[i].text(1.05, 0.5, text_str, transform=axes[i].transAxes, fontsize=8.5,\n",
    "                va='center', ha='left', bbox=props)\n",
    "plt.tight_layout()\n",
    "plt.show()"
   ]
  },
  {
   "cell_type": "code",
   "execution_count": null,
   "id": "b631d1a8-109a-4e05-bc39-1e5563a34ce0",
   "metadata": {
    "tags": []
   },
   "outputs": [],
   "source": [
    "fig, axes= plt.subplots(3,1, figsize=(8,5),sharex=True )\n",
    "\n",
    "for i,year in enumerate(x_year):\n",
    "    sns.histplot(\n",
    "        data=df_filtered[df_filtered.year==year]['D'].dropna(),\n",
    "        bins=30,\n",
    "        ax=axes[i],\n",
    "        kde=False,\n",
    "        edgecolor='black',\n",
    "        color='pink'\n",
    "    )\n",
    "    axes[i].set_title(f'{year}')\n",
    "    axes[i].set_xlabel('Điểm_khối_D')\n",
    "    axes[i].set_ylabel('Số_lượng')\n",
    "    axes[i].set_xticks(range(0,31,1))\n",
    "    \n",
    "    df_D=df_filtered[df_filtered.year==year]['D'].dropna()\n",
    "    mean=df_D.mean()\n",
    "    median=df_D.median()\n",
    "    std=df_D.std()\n",
    "    Q1=df_D.quantile(0.25)\n",
    "    Q3=df_D.quantile(0.75)\n",
    "    p85=df_D.quantile(0.85)\n",
    "    p90=df_D.quantile(0.90)\n",
    "    p95=df_D.quantile(0.95)\n",
    "    p99=df_D.quantile(0.99)\n",
    "    \n",
    "    text_str=(\n",
    "        f'Mean= {mean:.2f}\\nMedian= {median:.2f}\\nSTD= {std:.2f}\\n'\n",
    "        f'Q1= {Q1:.2f}\\nQ3= {Q3:.2f}\\n'\n",
    "        f'P85= {p85:.2f}\\nP90= {p90:.2f}\\nP95= {p95:.2f}\\nP99= {p99:.2f}'\n",
    "    )\n",
    "    props=dict(boxstyle='round',facecolor='wheat',alpha=0.5)\n",
    "    axes[i].text(1.05, 0.5, text_str, transform=axes[i].transAxes, fontsize=8.5,\n",
    "                va='center', ha='left', bbox=props)\n",
    "plt.tight_layout()\n",
    "plt.show()"
   ]
  },
  {
   "cell_type": "markdown",
   "id": "cb81c16d-9d44-4f3a-91f9-7a98ac740e8f",
   "metadata": {},
   "source": [
    "### Compare with previous years"
   ]
  },
  {
   "cell_type": "code",
   "execution_count": null,
   "id": "023bf4bb-5893-4e81-9555-82aafd4d9f94",
   "metadata": {
    "tags": []
   },
   "outputs": [],
   "source": [
    "for i in combinations:\n",
    "    plt.figure(figsize=(10,3))\n",
    "    for year,color in (zip(x_year,colors)):\n",
    "        df2=df_filtered[df_filtered.year==year][i].dropna()\n",
    "        sns.kdeplot(\n",
    "            data=df2,\n",
    "            label=f'Nam_{year}',\n",
    "            color=color,\n",
    "            bw_adjust=2\n",
    "        )\n",
    "    plt.title(f'Phân bố điểm khối {i} từ năm 2022 đến 2024')\n",
    "    plt.xlabel('Điểm số')\n",
    "    plt.ylabel('Mật độ')\n",
    "    plt.legend(title='Năm')\n",
    "    plt.grid(False)\n",
    "    plt.show()"
   ]
  },
  {
   "cell_type": "markdown",
   "id": "c406e68c-0f9a-41e8-a4c8-b0930bfeff63",
   "metadata": {},
   "source": [
    "### Correlation"
   ]
  },
  {
   "cell_type": "code",
   "execution_count": null,
   "id": "a06c2cd4-fcb0-4574-abfd-8867bb7adefa",
   "metadata": {
    "tags": []
   },
   "outputs": [],
   "source": [
    "df_score=df_filtered.loc[df_filtered.year==2024,subjects]"
   ]
  },
  {
   "cell_type": "code",
   "execution_count": null,
   "id": "ff7272a2-84b6-400a-96d5-a5a672a2c9ff",
   "metadata": {
    "tags": []
   },
   "outputs": [],
   "source": [
    "df_score.head()"
   ]
  },
  {
   "cell_type": "code",
   "execution_count": null,
   "id": "d30fd62a-5308-49a1-b4f8-81106a7e58d7",
   "metadata": {
    "tags": []
   },
   "outputs": [],
   "source": [
    "corr_matrix=df_score.corr()\n",
    "corr_matrix"
   ]
  },
  {
   "cell_type": "code",
   "execution_count": null,
   "id": "f0f19875-2bb7-4d70-8bf9-d971bff2724e",
   "metadata": {
    "tags": []
   },
   "outputs": [],
   "source": [
    "plt.figure(figsize=(10,6))\n",
    "sns.heatmap(\n",
    "    data=corr_matrix,\n",
    "    annot=True,\n",
    "    cmap='YlGn',\n",
    "    fmt='.2f'\n",
    ")\n",
    "plt.title('Tương quan giữa các môn học năm 2024',loc='left',fontsize=15)\n",
    "plt.show()"
   ]
  },
  {
   "cell_type": "code",
   "execution_count": null,
   "id": "98db37c6-448a-4c1e-ab79-ad8da9cf6459",
   "metadata": {
    "tags": []
   },
   "outputs": [],
   "source": [
    "df_filtered.head()"
   ]
  },
  {
   "cell_type": "code",
   "execution_count": null,
   "id": "87fb99ce-176f-4053-a1c7-1be59f138c1b",
   "metadata": {
    "tags": []
   },
   "outputs": [],
   "source": [
    "group_score=df_filtered.loc[df_filtered.year==2024,['A','A1','B','C','D']]"
   ]
  },
  {
   "cell_type": "code",
   "execution_count": null,
   "id": "909e6e35-8575-4700-800a-4e88f575d547",
   "metadata": {
    "tags": []
   },
   "outputs": [],
   "source": [
    "corr_matrix_2=group_score.corr()\n",
    "corr_matrix_2"
   ]
  },
  {
   "cell_type": "code",
   "execution_count": null,
   "id": "662fea20-9ded-4de5-875a-a9a56bae3fe4",
   "metadata": {
    "tags": []
   },
   "outputs": [],
   "source": [
    "sns.heatmap(\n",
    "    data=corr_matrix_2,\n",
    "    annot=True,\n",
    "    cmap='YlGn',\n",
    "    fmt='.2f'\n",
    ")\n",
    "plt.title('Tương quan giữa các khối thi năm 2024')\n",
    "plt.show()"
   ]
  },
  {
   "cell_type": "code",
   "execution_count": null,
   "id": "dbe575b2-9506-45e4-8afe-cf4f9f36824e",
   "metadata": {
    "tags": []
   },
   "outputs": [],
   "source": [
    "fig,axes=plt.subplots(1,3,figsize=(12,6))\n",
    "axes=axes.flatten()\n",
    "for i,year in enumerate(x_year):\n",
    "    df_year=df_filtered[df_filtered.year==year]\n",
    "    group_score=df_year[['A','A1','B','C','D']]\n",
    "    corr_mtr=group_score.corr()\n",
    "    sns.heatmap(\n",
    "    data=corr_mtr,\n",
    "    annot=True,\n",
    "    cmap='YlGn',\n",
    "    fmt='.2f',\n",
    "    ax=axes[i]\n",
    "    )\n",
    "    axes[i].set_title(f'Tương quan giữa các khối trong năm {year}')\n",
    "plt.tight_layout()\n",
    "plt.show()"
   ]
  },
  {
   "cell_type": "code",
   "execution_count": null,
   "id": "f3511cbe-7750-4a2b-9e21-4723a61bbf22",
   "metadata": {
    "tags": []
   },
   "outputs": [],
   "source": [
    "df.head()"
   ]
  },
  {
   "cell_type": "code",
   "execution_count": null,
   "id": "89fdec13-c747-4fc9-87b6-782aff5ff50d",
   "metadata": {},
   "outputs": [],
   "source": []
  }
 ],
 "metadata": {
  "kernelspec": {
   "display_name": "Python 3 (ipykernel)",
   "language": "python",
   "name": "python3"
  },
  "language_info": {
   "codemirror_mode": {
    "name": "ipython",
    "version": 3
   },
   "file_extension": ".py",
   "mimetype": "text/x-python",
   "name": "python",
   "nbconvert_exporter": "python",
   "pygments_lexer": "ipython3",
   "version": "3.11.5"
  }
 },
 "nbformat": 4,
 "nbformat_minor": 5
}
